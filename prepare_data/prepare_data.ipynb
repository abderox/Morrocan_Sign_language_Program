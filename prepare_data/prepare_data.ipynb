{
 "cells": [
  {
   "cell_type": "code",
   "execution_count": 32,
   "id": "e67262b2-6127-4975-830a-f09c112353e4",
   "metadata": {},
   "outputs": [],
   "source": [
    "from keras.preprocessing.image import ImageDataGenerator, array_to_img, img_to_array, load_img\n",
    "import cv2\n",
    "import os\n",
    "\n",
    "import PIL\n",
    "from PIL import Image\n",
    "\n",
    "datagen = ImageDataGenerator(\n",
    "        rotation_range=40,\n",
    "        # width_shift_range=0.2,\n",
    "        # height_shift_range=0.2,\n",
    "        shear_range=0.2,\n",
    "        zoom_range=0.2,\n",
    "        horizontal_flip=True,\n",
    "        fill_mode='nearest')\n",
    " \n",
    "    \n",
    "def resizeImage(path):\n",
    "    basewidth = 400\n",
    "    img_resize = Image.open(path)\n",
    "    wpercent = (basewidth / float(img_resize.size[0]))\n",
    "    hsize = 400\n",
    "    img_resize = img_resize.resize((basewidth, hsize), Image.ANTIALIAS)\n",
    "    img_resize.save(path)\n",
    "    \n",
    "    \n",
    "def Augment_And_Rotate(path,folderName):\n",
    "     \n",
    "    resizeImage(path)\n",
    "    \n",
    "    img = load_img(path)\n",
    "    \n",
    "    x = img_to_array(img)  \n",
    "    x = x.reshape((1,) + x.shape)  \n",
    "    i = 0\n",
    "    dir_path = 'alphabets/'+folderName+'/'\n",
    "    assure_path_exists(dir_path)\n",
    "    for batch in datagen.flow(x, batch_size=1,save_to_dir=dir_path, save_prefix=folderName, save_format='jpeg'):   \n",
    "        i += 1\n",
    "        if i > 400:\n",
    "            break    \n",
    "    \n",
    "def getImagesAndLabels(path):\n",
    "    imagePaths = [os.path.join(path,f) for f in os.listdir(path)] \n",
    "    for imagePath in imagePaths:\n",
    "        print(\"traitement de : \" + imagePath)\n",
    "        folderName = os.path.split(imagePath)[-1].split(\"_\")[0]\n",
    "        print(folderName)\n",
    "        Augment_And_Rotate(imagePath,folderName)\n",
    "        \n",
    "def assure_path_exists(path):\n",
    "    dir = os.path.dirname(path)\n",
    "    if not os.path.exists(dir):\n",
    "        os.makedirs(dir)"
   ]
  },
  {
   "cell_type": "code",
   "execution_count": 33,
   "id": "3fbbf94d-6063-4730-a7d6-fdac57e122f0",
   "metadata": {},
   "outputs": [
    {
     "name": "stdout",
     "output_type": "stream",
     "text": [
      "traitement de : letters_1\\A_1.jpg\n",
      "A\n",
      "traitement de : letters_1\\A_2.jpg\n",
      "A\n",
      "traitement de : letters_1\\A_3.jpg\n",
      "A\n",
      "traitement de : letters_1\\B_1.jpg\n",
      "B\n",
      "traitement de : letters_1\\B_2.jpg\n",
      "B\n",
      "traitement de : letters_1\\B_3.jpg\n",
      "B\n",
      "traitement de : letters_1\\TH_1.jpg\n",
      "TH\n",
      "traitement de : letters_1\\TH_2.jpg\n",
      "TH\n",
      "traitement de : letters_1\\TH_3.jpg\n",
      "TH\n",
      "traitement de : letters_1\\T_1.jpg\n",
      "T\n",
      "traitement de : letters_1\\T_2.jpg\n",
      "T\n",
      "traitement de : letters_1\\T_3.jpg\n",
      "T\n"
     ]
    }
   ],
   "source": [
    "getImagesAndLabels('letters')"
   ]
  }
 ],
 "metadata": {
  "kernelspec": {
   "display_name": "Python 3 (ipykernel)",
   "language": "python",
   "name": "python3"
  },
  "language_info": {
   "codemirror_mode": {
    "name": "ipython",
    "version": 3
   },
   "file_extension": ".py",
   "mimetype": "text/x-python",
   "name": "python",
   "nbconvert_exporter": "python",
   "pygments_lexer": "ipython3",
   "version": "3.9.12"
  }
 },
 "nbformat": 4,
 "nbformat_minor": 5
}
